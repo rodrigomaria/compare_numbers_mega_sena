{
  "nbformat": 4,
  "nbformat_minor": 0,
  "metadata": {
    "colab": {
      "name": "compare_numbers_mega_sena.ipynb",
      "provenance": [],
      "collapsed_sections": []
    },
    "kernelspec": {
      "name": "python3",
      "display_name": "Python 3"
    },
    "language_info": {
      "name": "python"
    }
  },
  "cells": [
    {
      "cell_type": "code",
      "execution_count": null,
      "metadata": {
        "id": "idl5z04U-_M9"
      },
      "outputs": [],
      "source": [
        "# import the library\n",
        "import pandas as pd"
      ]
    },
    {
      "cell_type": "code",
      "source": [
        "# open the file\n",
        "df = pd.read_excel(\"https://github.com/rodrigomariamorgao/compare_numbers_mega_sena/blob/main/all_results.xlsx?raw=true\")"
      ],
      "metadata": {
        "id": "xgmnv4wC_FfL"
      },
      "execution_count": null,
      "outputs": []
    },
    {
      "cell_type": "code",
      "source": [
        "# view the 2 first lines\n",
        "df.head(2)"
      ],
      "metadata": {
        "colab": {
          "base_uri": "https://localhost:8080/",
          "height": 112
        },
        "id": "So7i_Tuc_6qo",
        "outputId": "fc3fb924-858f-4f33-9075-fec8705d7286"
      },
      "execution_count": null,
      "outputs": [
        {
          "output_type": "execute_result",
          "data": {
            "text/html": [
              "\n",
              "  <div id=\"df-ad4b4e53-db43-475c-a414-095f7e21c8e7\">\n",
              "    <div class=\"colab-df-container\">\n",
              "      <div>\n",
              "<style scoped>\n",
              "    .dataframe tbody tr th:only-of-type {\n",
              "        vertical-align: middle;\n",
              "    }\n",
              "\n",
              "    .dataframe tbody tr th {\n",
              "        vertical-align: top;\n",
              "    }\n",
              "\n",
              "    .dataframe thead th {\n",
              "        text-align: right;\n",
              "    }\n",
              "</style>\n",
              "<table border=\"1\" class=\"dataframe\">\n",
              "  <thead>\n",
              "    <tr style=\"text-align: right;\">\n",
              "      <th></th>\n",
              "      <th>Conc.</th>\n",
              "      <th>Data</th>\n",
              "      <th>Unnamed: 2</th>\n",
              "      <th>Unnamed: 3</th>\n",
              "      <th>Unnamed: 4</th>\n",
              "      <th>Unnamed: 5</th>\n",
              "      <th>Unnamed: 6</th>\n",
              "      <th>Unnamed: 7</th>\n",
              "      <th>Gan.</th>\n",
              "      <th>Prêmio</th>\n",
              "    </tr>\n",
              "  </thead>\n",
              "  <tbody>\n",
              "    <tr>\n",
              "      <th>0</th>\n",
              "      <td>2447</td>\n",
              "      <td>25/01/2022</td>\n",
              "      <td>13</td>\n",
              "      <td>19</td>\n",
              "      <td>29</td>\n",
              "      <td>42</td>\n",
              "      <td>49</td>\n",
              "      <td>52</td>\n",
              "      <td>0</td>\n",
              "      <td>NaN</td>\n",
              "    </tr>\n",
              "    <tr>\n",
              "      <th>1</th>\n",
              "      <td>2446</td>\n",
              "      <td>22/01/2022</td>\n",
              "      <td>1</td>\n",
              "      <td>13</td>\n",
              "      <td>27</td>\n",
              "      <td>41</td>\n",
              "      <td>51</td>\n",
              "      <td>58</td>\n",
              "      <td>0</td>\n",
              "      <td>NaN</td>\n",
              "    </tr>\n",
              "  </tbody>\n",
              "</table>\n",
              "</div>\n",
              "      <button class=\"colab-df-convert\" onclick=\"convertToInteractive('df-ad4b4e53-db43-475c-a414-095f7e21c8e7')\"\n",
              "              title=\"Convert this dataframe to an interactive table.\"\n",
              "              style=\"display:none;\">\n",
              "        \n",
              "  <svg xmlns=\"http://www.w3.org/2000/svg\" height=\"24px\"viewBox=\"0 0 24 24\"\n",
              "       width=\"24px\">\n",
              "    <path d=\"M0 0h24v24H0V0z\" fill=\"none\"/>\n",
              "    <path d=\"M18.56 5.44l.94 2.06.94-2.06 2.06-.94-2.06-.94-.94-2.06-.94 2.06-2.06.94zm-11 1L8.5 8.5l.94-2.06 2.06-.94-2.06-.94L8.5 2.5l-.94 2.06-2.06.94zm10 10l.94 2.06.94-2.06 2.06-.94-2.06-.94-.94-2.06-.94 2.06-2.06.94z\"/><path d=\"M17.41 7.96l-1.37-1.37c-.4-.4-.92-.59-1.43-.59-.52 0-1.04.2-1.43.59L10.3 9.45l-7.72 7.72c-.78.78-.78 2.05 0 2.83L4 21.41c.39.39.9.59 1.41.59.51 0 1.02-.2 1.41-.59l7.78-7.78 2.81-2.81c.8-.78.8-2.07 0-2.86zM5.41 20L4 18.59l7.72-7.72 1.47 1.35L5.41 20z\"/>\n",
              "  </svg>\n",
              "      </button>\n",
              "      \n",
              "  <style>\n",
              "    .colab-df-container {\n",
              "      display:flex;\n",
              "      flex-wrap:wrap;\n",
              "      gap: 12px;\n",
              "    }\n",
              "\n",
              "    .colab-df-convert {\n",
              "      background-color: #E8F0FE;\n",
              "      border: none;\n",
              "      border-radius: 50%;\n",
              "      cursor: pointer;\n",
              "      display: none;\n",
              "      fill: #1967D2;\n",
              "      height: 32px;\n",
              "      padding: 0 0 0 0;\n",
              "      width: 32px;\n",
              "    }\n",
              "\n",
              "    .colab-df-convert:hover {\n",
              "      background-color: #E2EBFA;\n",
              "      box-shadow: 0px 1px 2px rgba(60, 64, 67, 0.3), 0px 1px 3px 1px rgba(60, 64, 67, 0.15);\n",
              "      fill: #174EA6;\n",
              "    }\n",
              "\n",
              "    [theme=dark] .colab-df-convert {\n",
              "      background-color: #3B4455;\n",
              "      fill: #D2E3FC;\n",
              "    }\n",
              "\n",
              "    [theme=dark] .colab-df-convert:hover {\n",
              "      background-color: #434B5C;\n",
              "      box-shadow: 0px 1px 3px 1px rgba(0, 0, 0, 0.15);\n",
              "      filter: drop-shadow(0px 1px 2px rgba(0, 0, 0, 0.3));\n",
              "      fill: #FFFFFF;\n",
              "    }\n",
              "  </style>\n",
              "\n",
              "      <script>\n",
              "        const buttonEl =\n",
              "          document.querySelector('#df-ad4b4e53-db43-475c-a414-095f7e21c8e7 button.colab-df-convert');\n",
              "        buttonEl.style.display =\n",
              "          google.colab.kernel.accessAllowed ? 'block' : 'none';\n",
              "\n",
              "        async function convertToInteractive(key) {\n",
              "          const element = document.querySelector('#df-ad4b4e53-db43-475c-a414-095f7e21c8e7');\n",
              "          const dataTable =\n",
              "            await google.colab.kernel.invokeFunction('convertToInteractive',\n",
              "                                                     [key], {});\n",
              "          if (!dataTable) return;\n",
              "\n",
              "          const docLinkHtml = 'Like what you see? Visit the ' +\n",
              "            '<a target=\"_blank\" href=https://colab.research.google.com/notebooks/data_table.ipynb>data table notebook</a>'\n",
              "            + ' to learn more about interactive tables.';\n",
              "          element.innerHTML = '';\n",
              "          dataTable['output_type'] = 'display_data';\n",
              "          await google.colab.output.renderOutput(dataTable, element);\n",
              "          const docLink = document.createElement('div');\n",
              "          docLink.innerHTML = docLinkHtml;\n",
              "          element.appendChild(docLink);\n",
              "        }\n",
              "      </script>\n",
              "    </div>\n",
              "  </div>\n",
              "  "
            ],
            "text/plain": [
              "   Conc.        Data  Unnamed: 2  ...  Unnamed: 7  Gan.  Prêmio\n",
              "0   2447  25/01/2022          13  ...          52     0     NaN\n",
              "1   2446  22/01/2022           1  ...          58     0     NaN\n",
              "\n",
              "[2 rows x 10 columns]"
            ]
          },
          "metadata": {},
          "execution_count": 3
        }
      ]
    },
    {
      "cell_type": "code",
      "source": [
        "# rename columns\n",
        "df = df.rename(columns={'Unnamed: 2': 'number_1', 'Unnamed: 3': 'number_2',\n",
        "                        'Unnamed: 4': 'number_3', 'Unnamed: 5': 'number_4',\n",
        "                        'Unnamed: 6': 'number_5', 'Unnamed: 7': 'number_6'})"
      ],
      "metadata": {
        "id": "oANyqnFaAhWh"
      },
      "execution_count": null,
      "outputs": []
    },
    {
      "cell_type": "code",
      "source": [
        "# view the 2 first lines\n",
        "df.head(2)"
      ],
      "metadata": {
        "colab": {
          "base_uri": "https://localhost:8080/",
          "height": 112
        },
        "id": "sEIvAHSxBA3z",
        "outputId": "780a5a47-96bd-47c5-c47b-4d078c26e618"
      },
      "execution_count": null,
      "outputs": [
        {
          "output_type": "execute_result",
          "data": {
            "text/html": [
              "\n",
              "  <div id=\"df-340d0c79-eaac-4ce7-a17b-baa52302a709\">\n",
              "    <div class=\"colab-df-container\">\n",
              "      <div>\n",
              "<style scoped>\n",
              "    .dataframe tbody tr th:only-of-type {\n",
              "        vertical-align: middle;\n",
              "    }\n",
              "\n",
              "    .dataframe tbody tr th {\n",
              "        vertical-align: top;\n",
              "    }\n",
              "\n",
              "    .dataframe thead th {\n",
              "        text-align: right;\n",
              "    }\n",
              "</style>\n",
              "<table border=\"1\" class=\"dataframe\">\n",
              "  <thead>\n",
              "    <tr style=\"text-align: right;\">\n",
              "      <th></th>\n",
              "      <th>Conc.</th>\n",
              "      <th>Data</th>\n",
              "      <th>number_1</th>\n",
              "      <th>number_2</th>\n",
              "      <th>number_3</th>\n",
              "      <th>number_4</th>\n",
              "      <th>number_5</th>\n",
              "      <th>number_6</th>\n",
              "      <th>Gan.</th>\n",
              "      <th>Prêmio</th>\n",
              "    </tr>\n",
              "  </thead>\n",
              "  <tbody>\n",
              "    <tr>\n",
              "      <th>0</th>\n",
              "      <td>2447</td>\n",
              "      <td>25/01/2022</td>\n",
              "      <td>13</td>\n",
              "      <td>19</td>\n",
              "      <td>29</td>\n",
              "      <td>42</td>\n",
              "      <td>49</td>\n",
              "      <td>52</td>\n",
              "      <td>0</td>\n",
              "      <td>NaN</td>\n",
              "    </tr>\n",
              "    <tr>\n",
              "      <th>1</th>\n",
              "      <td>2446</td>\n",
              "      <td>22/01/2022</td>\n",
              "      <td>1</td>\n",
              "      <td>13</td>\n",
              "      <td>27</td>\n",
              "      <td>41</td>\n",
              "      <td>51</td>\n",
              "      <td>58</td>\n",
              "      <td>0</td>\n",
              "      <td>NaN</td>\n",
              "    </tr>\n",
              "  </tbody>\n",
              "</table>\n",
              "</div>\n",
              "      <button class=\"colab-df-convert\" onclick=\"convertToInteractive('df-340d0c79-eaac-4ce7-a17b-baa52302a709')\"\n",
              "              title=\"Convert this dataframe to an interactive table.\"\n",
              "              style=\"display:none;\">\n",
              "        \n",
              "  <svg xmlns=\"http://www.w3.org/2000/svg\" height=\"24px\"viewBox=\"0 0 24 24\"\n",
              "       width=\"24px\">\n",
              "    <path d=\"M0 0h24v24H0V0z\" fill=\"none\"/>\n",
              "    <path d=\"M18.56 5.44l.94 2.06.94-2.06 2.06-.94-2.06-.94-.94-2.06-.94 2.06-2.06.94zm-11 1L8.5 8.5l.94-2.06 2.06-.94-2.06-.94L8.5 2.5l-.94 2.06-2.06.94zm10 10l.94 2.06.94-2.06 2.06-.94-2.06-.94-.94-2.06-.94 2.06-2.06.94z\"/><path d=\"M17.41 7.96l-1.37-1.37c-.4-.4-.92-.59-1.43-.59-.52 0-1.04.2-1.43.59L10.3 9.45l-7.72 7.72c-.78.78-.78 2.05 0 2.83L4 21.41c.39.39.9.59 1.41.59.51 0 1.02-.2 1.41-.59l7.78-7.78 2.81-2.81c.8-.78.8-2.07 0-2.86zM5.41 20L4 18.59l7.72-7.72 1.47 1.35L5.41 20z\"/>\n",
              "  </svg>\n",
              "      </button>\n",
              "      \n",
              "  <style>\n",
              "    .colab-df-container {\n",
              "      display:flex;\n",
              "      flex-wrap:wrap;\n",
              "      gap: 12px;\n",
              "    }\n",
              "\n",
              "    .colab-df-convert {\n",
              "      background-color: #E8F0FE;\n",
              "      border: none;\n",
              "      border-radius: 50%;\n",
              "      cursor: pointer;\n",
              "      display: none;\n",
              "      fill: #1967D2;\n",
              "      height: 32px;\n",
              "      padding: 0 0 0 0;\n",
              "      width: 32px;\n",
              "    }\n",
              "\n",
              "    .colab-df-convert:hover {\n",
              "      background-color: #E2EBFA;\n",
              "      box-shadow: 0px 1px 2px rgba(60, 64, 67, 0.3), 0px 1px 3px 1px rgba(60, 64, 67, 0.15);\n",
              "      fill: #174EA6;\n",
              "    }\n",
              "\n",
              "    [theme=dark] .colab-df-convert {\n",
              "      background-color: #3B4455;\n",
              "      fill: #D2E3FC;\n",
              "    }\n",
              "\n",
              "    [theme=dark] .colab-df-convert:hover {\n",
              "      background-color: #434B5C;\n",
              "      box-shadow: 0px 1px 3px 1px rgba(0, 0, 0, 0.15);\n",
              "      filter: drop-shadow(0px 1px 2px rgba(0, 0, 0, 0.3));\n",
              "      fill: #FFFFFF;\n",
              "    }\n",
              "  </style>\n",
              "\n",
              "      <script>\n",
              "        const buttonEl =\n",
              "          document.querySelector('#df-340d0c79-eaac-4ce7-a17b-baa52302a709 button.colab-df-convert');\n",
              "        buttonEl.style.display =\n",
              "          google.colab.kernel.accessAllowed ? 'block' : 'none';\n",
              "\n",
              "        async function convertToInteractive(key) {\n",
              "          const element = document.querySelector('#df-340d0c79-eaac-4ce7-a17b-baa52302a709');\n",
              "          const dataTable =\n",
              "            await google.colab.kernel.invokeFunction('convertToInteractive',\n",
              "                                                     [key], {});\n",
              "          if (!dataTable) return;\n",
              "\n",
              "          const docLinkHtml = 'Like what you see? Visit the ' +\n",
              "            '<a target=\"_blank\" href=https://colab.research.google.com/notebooks/data_table.ipynb>data table notebook</a>'\n",
              "            + ' to learn more about interactive tables.';\n",
              "          element.innerHTML = '';\n",
              "          dataTable['output_type'] = 'display_data';\n",
              "          await google.colab.output.renderOutput(dataTable, element);\n",
              "          const docLink = document.createElement('div');\n",
              "          docLink.innerHTML = docLinkHtml;\n",
              "          element.appendChild(docLink);\n",
              "        }\n",
              "      </script>\n",
              "    </div>\n",
              "  </div>\n",
              "  "
            ],
            "text/plain": [
              "   Conc.        Data  number_1  number_2  ...  number_5  number_6  Gan.  Prêmio\n",
              "0   2447  25/01/2022        13        19  ...        49        52     0     NaN\n",
              "1   2446  22/01/2022         1        13  ...        51        58     0     NaN\n",
              "\n",
              "[2 rows x 10 columns]"
            ]
          },
          "metadata": {},
          "execution_count": 5
        }
      ]
    },
    {
      "cell_type": "code",
      "source": [
        "# insert the numbers to evaluate\n",
        "numbers_to_evaluate = [2, 16, 23, 27, 47, 53]"
      ],
      "metadata": {
        "id": "ef8GjWBzAa6v"
      },
      "execution_count": null,
      "outputs": []
    },
    {
      "cell_type": "code",
      "source": [
        "# method to verify all results\n",
        "def verify_numbers(df, list_numeros):\n",
        "  for index, row in df.iterrows():\n",
        "    numbers = [row[\"number_1\"], row[\"number_2\"], row[\"number_3\"],\n",
        "              row[\"number_4\"], row[\"number_5\"], row[\"number_6\"]]\n",
        "    if numbers == list_numeros:\n",
        "      print(row)"
      ],
      "metadata": {
        "id": "anjQM141BDg9"
      },
      "execution_count": null,
      "outputs": []
    },
    {
      "cell_type": "code",
      "source": [
        "# invocate the method\n",
        "verify_numbers(df, numbers_to_evaluate)"
      ],
      "metadata": {
        "colab": {
          "base_uri": "https://localhost:8080/"
        },
        "id": "Pdk0nVYnYiQg",
        "outputId": "abcb0fc7-d478-49d4-c806-df96fb96177f"
      },
      "execution_count": null,
      "outputs": [
        {
          "output_type": "stream",
          "name": "stdout",
          "text": [
            "Conc.               14\n",
            "Data        10/06/1996\n",
            "number_1             2\n",
            "number_2            16\n",
            "number_3            23\n",
            "number_4            27\n",
            "number_5            47\n",
            "number_6            53\n",
            "Gan.                 0\n",
            "Prêmio             NaN\n",
            "Name: 2433, dtype: object\n"
          ]
        }
      ]
    },
    {
      "cell_type": "code",
      "source": [
        "# create a list with all draw numbers occurencies\n",
        "numbers = []\n",
        "for index, row in df.iterrows():\n",
        "  numbers += [row[\"number_1\"], row[\"number_2\"], row[\"number_3\"], row[\"number_4\"], row[\"number_5\"], row[\"number_6\"]]"
      ],
      "metadata": {
        "id": "oOoaIp4BEY8W"
      },
      "execution_count": null,
      "outputs": []
    },
    {
      "cell_type": "code",
      "source": [
        "# check the numbers quantity -> 2447 * 6\n",
        "len(numbers)"
      ],
      "metadata": {
        "colab": {
          "base_uri": "https://localhost:8080/"
        },
        "id": "ggAp6n08FtVy",
        "outputId": "e6dc921a-f9b8-479e-d4d2-284d7676484b"
      },
      "execution_count": null,
      "outputs": [
        {
          "output_type": "execute_result",
          "data": {
            "text/plain": [
              "14682"
            ]
          },
          "metadata": {},
          "execution_count": 10
        }
      ]
    },
    {
      "cell_type": "code",
      "source": [
        "# create a counter with number and quantity time draw\n",
        "from collections import Counter\n",
        "counter = Counter(numbers)"
      ],
      "metadata": {
        "id": "JDExujTJF3TY"
      },
      "execution_count": null,
      "outputs": []
    },
    {
      "cell_type": "code",
      "source": [
        "# print the counter\n",
        "counter"
      ],
      "metadata": {
        "colab": {
          "base_uri": "https://localhost:8080/"
        },
        "id": "ir7tvvu8G93p",
        "outputId": "8e7c8b0c-8143-4c8f-e09d-88aae6e3eb16"
      },
      "execution_count": null,
      "outputs": [
        {
          "output_type": "execute_result",
          "data": {
            "text/plain": [
              "Counter({1: 237,\n",
              "         2: 250,\n",
              "         3: 225,\n",
              "         4: 264,\n",
              "         5: 269,\n",
              "         6: 248,\n",
              "         7: 234,\n",
              "         8: 246,\n",
              "         9: 231,\n",
              "         10: 277,\n",
              "         11: 255,\n",
              "         12: 239,\n",
              "         13: 250,\n",
              "         14: 229,\n",
              "         15: 213,\n",
              "         16: 254,\n",
              "         17: 255,\n",
              "         18: 240,\n",
              "         19: 233,\n",
              "         20: 236,\n",
              "         21: 209,\n",
              "         22: 215,\n",
              "         23: 261,\n",
              "         24: 252,\n",
              "         25: 236,\n",
              "         26: 204,\n",
              "         27: 261,\n",
              "         28: 258,\n",
              "         29: 257,\n",
              "         30: 260,\n",
              "         31: 230,\n",
              "         32: 252,\n",
              "         33: 264,\n",
              "         34: 257,\n",
              "         35: 256,\n",
              "         36: 252,\n",
              "         37: 266,\n",
              "         38: 252,\n",
              "         39: 232,\n",
              "         40: 233,\n",
              "         41: 258,\n",
              "         42: 268,\n",
              "         43: 256,\n",
              "         44: 255,\n",
              "         45: 235,\n",
              "         46: 244,\n",
              "         47: 233,\n",
              "         48: 226,\n",
              "         49: 251,\n",
              "         50: 240,\n",
              "         51: 253,\n",
              "         52: 245,\n",
              "         53: 279,\n",
              "         54: 259,\n",
              "         55: 206,\n",
              "         56: 248,\n",
              "         57: 232,\n",
              "         58: 239,\n",
              "         59: 231,\n",
              "         60: 232})"
            ]
          },
          "metadata": {},
          "execution_count": 12
        }
      ]
    },
    {
      "cell_type": "code",
      "source": [
        "# create a tuple with number and value occurencies\n",
        "counter_items = [(value, key) for key, value in counter.items()]\n",
        "print(counter_items)"
      ],
      "metadata": {
        "id": "c4QRvCNQGQlj",
        "colab": {
          "base_uri": "https://localhost:8080/"
        },
        "outputId": "7b5ca351-add4-4174-c892-93b4d3e3f930"
      },
      "execution_count": null,
      "outputs": [
        {
          "output_type": "stream",
          "name": "stdout",
          "text": [
            "[(250, 13), (233, 19), (257, 29), (268, 42), (251, 49), (245, 52), (237, 1), (261, 27), (258, 41), (253, 51), (239, 58), (255, 11), (236, 25), (252, 32), (266, 37), (233, 47), (248, 56), (213, 15), (255, 17), (236, 20), (256, 35), (256, 43), (269, 5), (239, 12), (230, 31), (250, 2), (234, 7), (231, 9), (244, 46), (259, 54), (261, 23), (264, 33), (246, 8), (257, 34), (252, 38), (264, 4), (206, 55), (226, 48), (258, 28), (215, 22), (260, 30), (252, 36), (229, 14), (233, 40), (279, 53), (232, 57), (255, 44), (204, 26), (232, 39), (235, 45), (232, 60), (225, 3), (252, 24), (277, 10), (254, 16), (240, 18), (240, 50), (248, 6), (231, 59), (209, 21)]\n"
          ]
        }
      ]
    },
    {
      "cell_type": "code",
      "source": [
        "# get the 6 high numbers draw\n",
        "high_numbers = sorted(counter_items)[-6:]\n",
        "print(high_numbers)"
      ],
      "metadata": {
        "colab": {
          "base_uri": "https://localhost:8080/"
        },
        "id": "mkKRKi-XGyyu",
        "outputId": "8e5eb52e-fd58-4043-96a0-0727012ca175"
      },
      "execution_count": null,
      "outputs": [
        {
          "output_type": "stream",
          "name": "stdout",
          "text": [
            "[(264, 33), (266, 37), (268, 42), (269, 5), (277, 10), (279, 53)]\n"
          ]
        }
      ]
    },
    {
      "cell_type": "code",
      "source": [
        "# create a list with hig numbers draw\n",
        "numbers_only = []\n",
        "for each in high_numbers:\n",
        "  numbers_only.append(each[1])"
      ],
      "metadata": {
        "id": "_EWtgQxjXIfC"
      },
      "execution_count": null,
      "outputs": []
    },
    {
      "cell_type": "code",
      "source": [
        "# order the list by asc\n",
        "numbers_only = sorted(numbers_only)"
      ],
      "metadata": {
        "id": "ojDXdZCzX9-t"
      },
      "execution_count": null,
      "outputs": []
    },
    {
      "cell_type": "code",
      "source": [
        "# invocate the method\n",
        "verify_numbers(df, numbers_only)"
      ],
      "metadata": {
        "id": "bxrsIDTxYnOB"
      },
      "execution_count": null,
      "outputs": []
    }
  ]
}