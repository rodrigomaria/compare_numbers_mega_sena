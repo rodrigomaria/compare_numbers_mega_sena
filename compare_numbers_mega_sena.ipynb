{
  "nbformat": 4,
  "nbformat_minor": 0,
  "metadata": {
    "colab": {
      "provenance": []
    },
    "kernelspec": {
      "name": "python3",
      "display_name": "Python 3"
    },
    "language_info": {
      "name": "python"
    }
  },
  "cells": [
    {
      "cell_type": "code",
      "execution_count": 1,
      "metadata": {
        "id": "idl5z04U-_M9"
      },
      "outputs": [],
      "source": [
        "# import the library\n",
        "import pandas as pd"
      ]
    },
    {
      "cell_type": "code",
      "source": [
        "# open the file\n",
        "df = pd.read_excel(\"https://github.com/rodrigomariamorgao/compare_numbers_mega_sena/blob/main/all_results.xlsx?raw=true\")"
      ],
      "metadata": {
        "id": "xgmnv4wC_FfL"
      },
      "execution_count": 2,
      "outputs": []
    },
    {
      "cell_type": "code",
      "source": [
        "# view the 2 first lines\n",
        "df.head(2)"
      ],
      "metadata": {
        "colab": {
          "base_uri": "https://localhost:8080/",
          "height": 202
        },
        "id": "So7i_Tuc_6qo",
        "outputId": "62326ef7-1f0f-4cfd-d2ff-e4547a41438b"
      },
      "execution_count": 3,
      "outputs": [
        {
          "output_type": "execute_result",
          "data": {
            "text/plain": [
              "   Concurso Data do Sorteio  Bola1  Bola2  Bola3  Bola4  Bola5  Bola6  \\\n",
              "0         1      11/03/1996      4      5     30     33     41     52   \n",
              "1         2      18/03/1996      9     37     39     41     43     49   \n",
              "\n",
              "   Ganhadores 6 acertos Cidade / UF Rateio 6 acertos  Ganhadores 5 acertos  \\\n",
              "0                     0         NaN           R$0,00                    17   \n",
              "1                     1          PR   R$2.307.162,23                    65   \n",
              "\n",
              "  Rateio 5 acertos  Ganhadores 4 acertos Rateio 4 acertos Acumulado 6 acertos  \\\n",
              "0      R$39.158,92                  2016         R$330,21      R$1.714.650,23   \n",
              "1      R$14.424,02                  4488         R$208,91              R$0,00   \n",
              "\n",
              "  Arrecadação Total Estimativa prêmio  \\\n",
              "0            R$0,00            R$0,00   \n",
              "1            R$0,00            R$0,00   \n",
              "\n",
              "  Acumulado Sorteio Especial Mega da Virada Observação  \n",
              "0                                    R$0,00        NaN  \n",
              "1                                    R$0,00        NaN  "
            ],
            "text/html": [
              "\n",
              "  <div id=\"df-868ff0c6-6e16-4e6e-9dbf-782394edeef4\" class=\"colab-df-container\">\n",
              "    <div>\n",
              "<style scoped>\n",
              "    .dataframe tbody tr th:only-of-type {\n",
              "        vertical-align: middle;\n",
              "    }\n",
              "\n",
              "    .dataframe tbody tr th {\n",
              "        vertical-align: top;\n",
              "    }\n",
              "\n",
              "    .dataframe thead th {\n",
              "        text-align: right;\n",
              "    }\n",
              "</style>\n",
              "<table border=\"1\" class=\"dataframe\">\n",
              "  <thead>\n",
              "    <tr style=\"text-align: right;\">\n",
              "      <th></th>\n",
              "      <th>Concurso</th>\n",
              "      <th>Data do Sorteio</th>\n",
              "      <th>Bola1</th>\n",
              "      <th>Bola2</th>\n",
              "      <th>Bola3</th>\n",
              "      <th>Bola4</th>\n",
              "      <th>Bola5</th>\n",
              "      <th>Bola6</th>\n",
              "      <th>Ganhadores 6 acertos</th>\n",
              "      <th>Cidade / UF</th>\n",
              "      <th>Rateio 6 acertos</th>\n",
              "      <th>Ganhadores 5 acertos</th>\n",
              "      <th>Rateio 5 acertos</th>\n",
              "      <th>Ganhadores 4 acertos</th>\n",
              "      <th>Rateio 4 acertos</th>\n",
              "      <th>Acumulado 6 acertos</th>\n",
              "      <th>Arrecadação Total</th>\n",
              "      <th>Estimativa prêmio</th>\n",
              "      <th>Acumulado Sorteio Especial Mega da Virada</th>\n",
              "      <th>Observação</th>\n",
              "    </tr>\n",
              "  </thead>\n",
              "  <tbody>\n",
              "    <tr>\n",
              "      <th>0</th>\n",
              "      <td>1</td>\n",
              "      <td>11/03/1996</td>\n",
              "      <td>4</td>\n",
              "      <td>5</td>\n",
              "      <td>30</td>\n",
              "      <td>33</td>\n",
              "      <td>41</td>\n",
              "      <td>52</td>\n",
              "      <td>0</td>\n",
              "      <td>NaN</td>\n",
              "      <td>R$0,00</td>\n",
              "      <td>17</td>\n",
              "      <td>R$39.158,92</td>\n",
              "      <td>2016</td>\n",
              "      <td>R$330,21</td>\n",
              "      <td>R$1.714.650,23</td>\n",
              "      <td>R$0,00</td>\n",
              "      <td>R$0,00</td>\n",
              "      <td>R$0,00</td>\n",
              "      <td>NaN</td>\n",
              "    </tr>\n",
              "    <tr>\n",
              "      <th>1</th>\n",
              "      <td>2</td>\n",
              "      <td>18/03/1996</td>\n",
              "      <td>9</td>\n",
              "      <td>37</td>\n",
              "      <td>39</td>\n",
              "      <td>41</td>\n",
              "      <td>43</td>\n",
              "      <td>49</td>\n",
              "      <td>1</td>\n",
              "      <td>PR</td>\n",
              "      <td>R$2.307.162,23</td>\n",
              "      <td>65</td>\n",
              "      <td>R$14.424,02</td>\n",
              "      <td>4488</td>\n",
              "      <td>R$208,91</td>\n",
              "      <td>R$0,00</td>\n",
              "      <td>R$0,00</td>\n",
              "      <td>R$0,00</td>\n",
              "      <td>R$0,00</td>\n",
              "      <td>NaN</td>\n",
              "    </tr>\n",
              "  </tbody>\n",
              "</table>\n",
              "</div>\n",
              "    <div class=\"colab-df-buttons\">\n",
              "\n",
              "  <div class=\"colab-df-container\">\n",
              "    <button class=\"colab-df-convert\" onclick=\"convertToInteractive('df-868ff0c6-6e16-4e6e-9dbf-782394edeef4')\"\n",
              "            title=\"Convert this dataframe to an interactive table.\"\n",
              "            style=\"display:none;\">\n",
              "\n",
              "  <svg xmlns=\"http://www.w3.org/2000/svg\" height=\"24px\" viewBox=\"0 -960 960 960\">\n",
              "    <path d=\"M120-120v-720h720v720H120Zm60-500h600v-160H180v160Zm220 220h160v-160H400v160Zm0 220h160v-160H400v160ZM180-400h160v-160H180v160Zm440 0h160v-160H620v160ZM180-180h160v-160H180v160Zm440 0h160v-160H620v160Z\"/>\n",
              "  </svg>\n",
              "    </button>\n",
              "\n",
              "  <style>\n",
              "    .colab-df-container {\n",
              "      display:flex;\n",
              "      gap: 12px;\n",
              "    }\n",
              "\n",
              "    .colab-df-convert {\n",
              "      background-color: #E8F0FE;\n",
              "      border: none;\n",
              "      border-radius: 50%;\n",
              "      cursor: pointer;\n",
              "      display: none;\n",
              "      fill: #1967D2;\n",
              "      height: 32px;\n",
              "      padding: 0 0 0 0;\n",
              "      width: 32px;\n",
              "    }\n",
              "\n",
              "    .colab-df-convert:hover {\n",
              "      background-color: #E2EBFA;\n",
              "      box-shadow: 0px 1px 2px rgba(60, 64, 67, 0.3), 0px 1px 3px 1px rgba(60, 64, 67, 0.15);\n",
              "      fill: #174EA6;\n",
              "    }\n",
              "\n",
              "    .colab-df-buttons div {\n",
              "      margin-bottom: 4px;\n",
              "    }\n",
              "\n",
              "    [theme=dark] .colab-df-convert {\n",
              "      background-color: #3B4455;\n",
              "      fill: #D2E3FC;\n",
              "    }\n",
              "\n",
              "    [theme=dark] .colab-df-convert:hover {\n",
              "      background-color: #434B5C;\n",
              "      box-shadow: 0px 1px 3px 1px rgba(0, 0, 0, 0.15);\n",
              "      filter: drop-shadow(0px 1px 2px rgba(0, 0, 0, 0.3));\n",
              "      fill: #FFFFFF;\n",
              "    }\n",
              "  </style>\n",
              "\n",
              "    <script>\n",
              "      const buttonEl =\n",
              "        document.querySelector('#df-868ff0c6-6e16-4e6e-9dbf-782394edeef4 button.colab-df-convert');\n",
              "      buttonEl.style.display =\n",
              "        google.colab.kernel.accessAllowed ? 'block' : 'none';\n",
              "\n",
              "      async function convertToInteractive(key) {\n",
              "        const element = document.querySelector('#df-868ff0c6-6e16-4e6e-9dbf-782394edeef4');\n",
              "        const dataTable =\n",
              "          await google.colab.kernel.invokeFunction('convertToInteractive',\n",
              "                                                    [key], {});\n",
              "        if (!dataTable) return;\n",
              "\n",
              "        const docLinkHtml = 'Like what you see? Visit the ' +\n",
              "          '<a target=\"_blank\" href=https://colab.research.google.com/notebooks/data_table.ipynb>data table notebook</a>'\n",
              "          + ' to learn more about interactive tables.';\n",
              "        element.innerHTML = '';\n",
              "        dataTable['output_type'] = 'display_data';\n",
              "        await google.colab.output.renderOutput(dataTable, element);\n",
              "        const docLink = document.createElement('div');\n",
              "        docLink.innerHTML = docLinkHtml;\n",
              "        element.appendChild(docLink);\n",
              "      }\n",
              "    </script>\n",
              "  </div>\n",
              "\n",
              "\n",
              "<div id=\"df-4010ebe1-4b26-436c-ab80-ab7d2efcbd5d\">\n",
              "  <button class=\"colab-df-quickchart\" onclick=\"quickchart('df-4010ebe1-4b26-436c-ab80-ab7d2efcbd5d')\"\n",
              "            title=\"Suggest charts\"\n",
              "            style=\"display:none;\">\n",
              "\n",
              "<svg xmlns=\"http://www.w3.org/2000/svg\" height=\"24px\"viewBox=\"0 0 24 24\"\n",
              "     width=\"24px\">\n",
              "    <g>\n",
              "        <path d=\"M19 3H5c-1.1 0-2 .9-2 2v14c0 1.1.9 2 2 2h14c1.1 0 2-.9 2-2V5c0-1.1-.9-2-2-2zM9 17H7v-7h2v7zm4 0h-2V7h2v10zm4 0h-2v-4h2v4z\"/>\n",
              "    </g>\n",
              "</svg>\n",
              "  </button>\n",
              "\n",
              "<style>\n",
              "  .colab-df-quickchart {\n",
              "      --bg-color: #E8F0FE;\n",
              "      --fill-color: #1967D2;\n",
              "      --hover-bg-color: #E2EBFA;\n",
              "      --hover-fill-color: #174EA6;\n",
              "      --disabled-fill-color: #AAA;\n",
              "      --disabled-bg-color: #DDD;\n",
              "  }\n",
              "\n",
              "  [theme=dark] .colab-df-quickchart {\n",
              "      --bg-color: #3B4455;\n",
              "      --fill-color: #D2E3FC;\n",
              "      --hover-bg-color: #434B5C;\n",
              "      --hover-fill-color: #FFFFFF;\n",
              "      --disabled-bg-color: #3B4455;\n",
              "      --disabled-fill-color: #666;\n",
              "  }\n",
              "\n",
              "  .colab-df-quickchart {\n",
              "    background-color: var(--bg-color);\n",
              "    border: none;\n",
              "    border-radius: 50%;\n",
              "    cursor: pointer;\n",
              "    display: none;\n",
              "    fill: var(--fill-color);\n",
              "    height: 32px;\n",
              "    padding: 0;\n",
              "    width: 32px;\n",
              "  }\n",
              "\n",
              "  .colab-df-quickchart:hover {\n",
              "    background-color: var(--hover-bg-color);\n",
              "    box-shadow: 0 1px 2px rgba(60, 64, 67, 0.3), 0 1px 3px 1px rgba(60, 64, 67, 0.15);\n",
              "    fill: var(--button-hover-fill-color);\n",
              "  }\n",
              "\n",
              "  .colab-df-quickchart-complete:disabled,\n",
              "  .colab-df-quickchart-complete:disabled:hover {\n",
              "    background-color: var(--disabled-bg-color);\n",
              "    fill: var(--disabled-fill-color);\n",
              "    box-shadow: none;\n",
              "  }\n",
              "\n",
              "  .colab-df-spinner {\n",
              "    border: 2px solid var(--fill-color);\n",
              "    border-color: transparent;\n",
              "    border-bottom-color: var(--fill-color);\n",
              "    animation:\n",
              "      spin 1s steps(1) infinite;\n",
              "  }\n",
              "\n",
              "  @keyframes spin {\n",
              "    0% {\n",
              "      border-color: transparent;\n",
              "      border-bottom-color: var(--fill-color);\n",
              "      border-left-color: var(--fill-color);\n",
              "    }\n",
              "    20% {\n",
              "      border-color: transparent;\n",
              "      border-left-color: var(--fill-color);\n",
              "      border-top-color: var(--fill-color);\n",
              "    }\n",
              "    30% {\n",
              "      border-color: transparent;\n",
              "      border-left-color: var(--fill-color);\n",
              "      border-top-color: var(--fill-color);\n",
              "      border-right-color: var(--fill-color);\n",
              "    }\n",
              "    40% {\n",
              "      border-color: transparent;\n",
              "      border-right-color: var(--fill-color);\n",
              "      border-top-color: var(--fill-color);\n",
              "    }\n",
              "    60% {\n",
              "      border-color: transparent;\n",
              "      border-right-color: var(--fill-color);\n",
              "    }\n",
              "    80% {\n",
              "      border-color: transparent;\n",
              "      border-right-color: var(--fill-color);\n",
              "      border-bottom-color: var(--fill-color);\n",
              "    }\n",
              "    90% {\n",
              "      border-color: transparent;\n",
              "      border-bottom-color: var(--fill-color);\n",
              "    }\n",
              "  }\n",
              "</style>\n",
              "\n",
              "  <script>\n",
              "    async function quickchart(key) {\n",
              "      const quickchartButtonEl =\n",
              "        document.querySelector('#' + key + ' button');\n",
              "      quickchartButtonEl.disabled = true;  // To prevent multiple clicks.\n",
              "      quickchartButtonEl.classList.add('colab-df-spinner');\n",
              "      try {\n",
              "        const charts = await google.colab.kernel.invokeFunction(\n",
              "            'suggestCharts', [key], {});\n",
              "      } catch (error) {\n",
              "        console.error('Error during call to suggestCharts:', error);\n",
              "      }\n",
              "      quickchartButtonEl.classList.remove('colab-df-spinner');\n",
              "      quickchartButtonEl.classList.add('colab-df-quickchart-complete');\n",
              "    }\n",
              "    (() => {\n",
              "      let quickchartButtonEl =\n",
              "        document.querySelector('#df-4010ebe1-4b26-436c-ab80-ab7d2efcbd5d button');\n",
              "      quickchartButtonEl.style.display =\n",
              "        google.colab.kernel.accessAllowed ? 'block' : 'none';\n",
              "    })();\n",
              "  </script>\n",
              "</div>\n",
              "\n",
              "    </div>\n",
              "  </div>\n"
            ],
            "application/vnd.google.colaboratory.intrinsic+json": {
              "type": "dataframe",
              "variable_name": "df",
              "summary": "{\n  \"name\": \"df\",\n  \"rows\": 2806,\n  \"fields\": [\n    {\n      \"column\": \"Concurso\",\n      \"properties\": {\n        \"dtype\": \"number\",\n        \"std\": 810,\n        \"min\": 1,\n        \"max\": 2806,\n        \"num_unique_values\": 2806,\n        \"samples\": [\n          2570,\n          2670,\n          1585\n        ],\n        \"semantic_type\": \"\",\n        \"description\": \"\"\n      }\n    },\n    {\n      \"column\": \"Data do Sorteio\",\n      \"properties\": {\n        \"dtype\": \"string\",\n        \"num_unique_values\": 2806,\n        \"samples\": [\n          \"04/03/2023\",\n          \"31/12/2023\",\n          \"26/03/2014\"\n        ],\n        \"semantic_type\": \"\",\n        \"description\": \"\"\n      }\n    },\n    {\n      \"column\": \"Bola1\",\n      \"properties\": {\n        \"dtype\": \"number\",\n        \"std\": 6,\n        \"min\": 1,\n        \"max\": 50,\n        \"num_unique_values\": 43,\n        \"samples\": [\n          43,\n          32,\n          22\n        ],\n        \"semantic_type\": \"\",\n        \"description\": \"\"\n      }\n    },\n    {\n      \"column\": \"Bola2\",\n      \"properties\": {\n        \"dtype\": \"number\",\n        \"std\": 9,\n        \"min\": 2,\n        \"max\": 51,\n        \"num_unique_values\": 48,\n        \"samples\": [\n          3,\n          36,\n          12\n        ],\n        \"semantic_type\": \"\",\n        \"description\": \"\"\n      }\n    },\n    {\n      \"column\": \"Bola3\",\n      \"properties\": {\n        \"dtype\": \"number\",\n        \"std\": 9,\n        \"min\": 3,\n        \"max\": 56,\n        \"num_unique_values\": 53,\n        \"samples\": [\n          50,\n          44,\n          49\n        ],\n        \"semantic_type\": \"\",\n        \"description\": \"\"\n      }\n    },\n    {\n      \"column\": \"Bola4\",\n      \"properties\": {\n        \"dtype\": \"number\",\n        \"std\": 9,\n        \"min\": 8,\n        \"max\": 58,\n        \"num_unique_values\": 51,\n        \"samples\": [\n          15,\n          57,\n          58\n        ],\n        \"semantic_type\": \"\",\n        \"description\": \"\"\n      }\n    },\n    {\n      \"column\": \"Bola5\",\n      \"properties\": {\n        \"dtype\": \"number\",\n        \"std\": 9,\n        \"min\": 11,\n        \"max\": 59,\n        \"num_unique_values\": 48,\n        \"samples\": [\n          34,\n          18,\n          51\n        ],\n        \"semantic_type\": \"\",\n        \"description\": \"\"\n      }\n    },\n    {\n      \"column\": \"Bola6\",\n      \"properties\": {\n        \"dtype\": \"number\",\n        \"std\": 6,\n        \"min\": 22,\n        \"max\": 60,\n        \"num_unique_values\": 38,\n        \"samples\": [\n          29,\n          25,\n          46\n        ],\n        \"semantic_type\": \"\",\n        \"description\": \"\"\n      }\n    },\n    {\n      \"column\": \"Ganhadores 6 acertos\",\n      \"properties\": {\n        \"dtype\": \"number\",\n        \"std\": 1,\n        \"min\": 0,\n        \"max\": 52,\n        \"num_unique_values\": 11,\n        \"samples\": [\n          5,\n          0,\n          17\n        ],\n        \"semantic_type\": \"\",\n        \"description\": \"\"\n      }\n    },\n    {\n      \"column\": \"Cidade / UF\",\n      \"properties\": {\n        \"dtype\": \"category\",\n        \"num_unique_values\": 325,\n        \"samples\": [\n          \"ASSIS/SP\",\n          \"S\\u00c3O LEOPOLDO/RS\",\n          \"ITAGUARA/MG\"\n        ],\n        \"semantic_type\": \"\",\n        \"description\": \"\"\n      }\n    },\n    {\n      \"column\": \"Rateio 6 acertos\",\n      \"properties\": {\n        \"dtype\": \"category\",\n        \"num_unique_values\": 622,\n        \"samples\": [\n          \"R$46.206.248,49\",\n          \"R$3.678.088,24\",\n          \"R$26.631.943,24\"\n        ],\n        \"semantic_type\": \"\",\n        \"description\": \"\"\n      }\n    },\n    {\n      \"column\": \"Ganhadores 5 acertos\",\n      \"properties\": {\n        \"dtype\": \"number\",\n        \"std\": 233,\n        \"min\": 4,\n        \"max\": 7688,\n        \"num_unique_values\": 356,\n        \"samples\": [\n          330,\n          132,\n          181\n        ],\n        \"semantic_type\": \"\",\n        \"description\": \"\"\n      }\n    },\n    {\n      \"column\": \"Rateio 5 acertos\",\n      \"properties\": {\n        \"dtype\": \"string\",\n        \"num_unique_values\": 2806,\n        \"samples\": [\n          \"R$61.594,54\",\n          \"R$70.083,58\",\n          \"R$28.656,30\"\n        ],\n        \"semantic_type\": \"\",\n        \"description\": \"\"\n      }\n    },\n    {\n      \"column\": \"Ganhadores 4 acertos\",\n      \"properties\": {\n        \"dtype\": \"number\",\n        \"std\": 11339,\n        \"min\": 683,\n        \"max\": 303857,\n        \"num_unique_values\": 2450,\n        \"samples\": [\n          4577,\n          3923,\n          5712\n        ],\n        \"semantic_type\": \"\",\n        \"description\": \"\"\n      }\n    },\n    {\n      \"column\": \"Rateio 4 acertos\",\n      \"properties\": {\n        \"dtype\": \"string\",\n        \"num_unique_values\": 2759,\n        \"samples\": [\n          \"R$196,23\",\n          \"R$524,64\",\n          \"R$1.516,93\"\n        ],\n        \"semantic_type\": \"\",\n        \"description\": \"\"\n      }\n    },\n    {\n      \"column\": \"Acumulado 6 acertos\",\n      \"properties\": {\n        \"dtype\": \"string\",\n        \"num_unique_values\": 2204,\n        \"samples\": [\n          \"R$1.596.346,74\",\n          \"R$11.137.662,34\",\n          \"R$37.260.986,05\"\n        ],\n        \"semantic_type\": \"\",\n        \"description\": \"\"\n      }\n    },\n    {\n      \"column\": \"Arrecada\\u00e7\\u00e3o Total\",\n      \"properties\": {\n        \"dtype\": \"string\",\n        \"num_unique_values\": 1738,\n        \"samples\": [\n          \"R$26.151.116,00\",\n          \"R$74.098.210,50\",\n          \"R$45.790.930,50\"\n        ],\n        \"semantic_type\": \"\",\n        \"description\": \"\"\n      }\n    },\n    {\n      \"column\": \"Estimativa pr\\u00eamio\",\n      \"properties\": {\n        \"dtype\": \"category\",\n        \"num_unique_values\": 184,\n        \"samples\": [\n          \"R$20.000.000,00\",\n          \"R$52.000.000,00\",\n          \"R$300.000.000,00\"\n        ],\n        \"semantic_type\": \"\",\n        \"description\": \"\"\n      }\n    },\n    {\n      \"column\": \"Acumulado Sorteio Especial Mega da Virada\",\n      \"properties\": {\n        \"dtype\": \"string\",\n        \"num_unique_values\": 1799,\n        \"samples\": [\n          \"R$17.354.887,21\",\n          \"R$39.766.492,87\",\n          \"R$33.189.173,97\"\n        ],\n        \"semantic_type\": \"\",\n        \"description\": \"\"\n      }\n    },\n    {\n      \"column\": \"Observa\\u00e7\\u00e3o\",\n      \"properties\": {\n        \"dtype\": \"category\",\n        \"num_unique_values\": 716,\n        \"samples\": [\n          \"Estimativa pr\\u00eamio pr\\u00f3ximo concurso (sena):R$7MILH\\u00d5ES.\",\n          \"ACUMULOU!!! Estimativa de pr\\u00eamio (SENA) pr\\u00f3ximo concurso: R$6.500.000,00.\",\n          \"A  Mega-Sena   A C U M U L O U  !!!\"\n        ],\n        \"semantic_type\": \"\",\n        \"description\": \"\"\n      }\n    }\n  ]\n}"
            }
          },
          "metadata": {},
          "execution_count": 3
        }
      ]
    },
    {
      "cell_type": "code",
      "source": [
        "# insert the numbers to evaluate\n",
        "numbers_to_evaluate = [2, 16, 23, 27, 47, 53]"
      ],
      "metadata": {
        "id": "ef8GjWBzAa6v"
      },
      "execution_count": 6,
      "outputs": []
    },
    {
      "cell_type": "code",
      "source": [
        "# method to verify all results\n",
        "def verify_numbers(df, list_numeros):\n",
        "  for index, row in df.iterrows():\n",
        "    numbers = [row[\"Bola1\"], row[\"Bola2\"], row[\"Bola3\"],\n",
        "              row[\"Bola4\"], row[\"Bola5\"], row[\"Bola6\"]]\n",
        "    if numbers == list_numeros:\n",
        "      print(row)"
      ],
      "metadata": {
        "id": "anjQM141BDg9"
      },
      "execution_count": 4,
      "outputs": []
    },
    {
      "cell_type": "code",
      "source": [
        "# invocate the method\n",
        "verify_numbers(df, numbers_to_evaluate)"
      ],
      "metadata": {
        "colab": {
          "base_uri": "https://localhost:8080/"
        },
        "id": "Pdk0nVYnYiQg",
        "outputId": "e0167ec3-98a1-48d2-fe84-b7e82ce76c7e"
      },
      "execution_count": 7,
      "outputs": [
        {
          "output_type": "stream",
          "name": "stdout",
          "text": [
            "Concurso                                                 14\n",
            "Data do Sorteio                                  10/06/1996\n",
            "Bola1                                                     2\n",
            "Bola2                                                    16\n",
            "Bola3                                                    23\n",
            "Bola4                                                    27\n",
            "Bola5                                                    47\n",
            "Bola6                                                    53\n",
            "Ganhadores 6 acertos                                      0\n",
            "Cidade / UF                                             NaN\n",
            "Rateio 6 acertos                                     R$0,00\n",
            "Ganhadores 5 acertos                                     85\n",
            "Rateio 5 acertos                                R$10.458,19\n",
            "Ganhadores 4 acertos                                   5323\n",
            "Rateio 4 acertos                                   R$167,00\n",
            "Acumulado 6 acertos                          R$3.006.941,32\n",
            "Arrecadação Total                                    R$0,00\n",
            "Estimativa prêmio                                    R$0,00\n",
            "Acumulado Sorteio Especial Mega da Virada            R$0,00\n",
            "Observação                                              NaN\n",
            "Name: 13, dtype: object\n"
          ]
        }
      ]
    },
    {
      "cell_type": "code",
      "source": [
        "# create a list with all draw numbers occurencies\n",
        "numbers = []\n",
        "for index, row in df.iterrows():\n",
        "  numbers += [row[\"Bola1\"], row[\"Bola2\"], row[\"Bola3\"], row[\"Bola4\"], row[\"Bola5\"], row[\"Bola6\"]]"
      ],
      "metadata": {
        "id": "oOoaIp4BEY8W"
      },
      "execution_count": 8,
      "outputs": []
    },
    {
      "cell_type": "code",
      "source": [
        "# check the numbers quantity -> 2806 * 6\n",
        "len(numbers)"
      ],
      "metadata": {
        "colab": {
          "base_uri": "https://localhost:8080/"
        },
        "id": "ggAp6n08FtVy",
        "outputId": "c6e94df6-486e-48e2-ead6-0f3d8fd40c82"
      },
      "execution_count": 10,
      "outputs": [
        {
          "output_type": "execute_result",
          "data": {
            "text/plain": [
              "16836"
            ]
          },
          "metadata": {},
          "execution_count": 10
        }
      ]
    },
    {
      "cell_type": "code",
      "source": [
        "# create a counter with number and quantity time draw\n",
        "from collections import Counter\n",
        "counter = Counter(numbers)"
      ],
      "metadata": {
        "id": "JDExujTJF3TY"
      },
      "execution_count": 11,
      "outputs": []
    },
    {
      "cell_type": "code",
      "source": [
        "# print the counter\n",
        "counter"
      ],
      "metadata": {
        "colab": {
          "base_uri": "https://localhost:8080/"
        },
        "id": "ir7tvvu8G93p",
        "outputId": "379d161f-1cb5-40aa-a4c3-2787df58b61b"
      },
      "execution_count": 12,
      "outputs": [
        {
          "output_type": "execute_result",
          "data": {
            "text/plain": [
              "Counter({4: 293,\n",
              "         5: 303,\n",
              "         30: 297,\n",
              "         33: 305,\n",
              "         41: 295,\n",
              "         52: 281,\n",
              "         9: 265,\n",
              "         37: 302,\n",
              "         39: 266,\n",
              "         43: 295,\n",
              "         49: 285,\n",
              "         10: 328,\n",
              "         11: 296,\n",
              "         29: 282,\n",
              "         36: 283,\n",
              "         47: 269,\n",
              "         1: 271,\n",
              "         6: 282,\n",
              "         27: 293,\n",
              "         42: 299,\n",
              "         59: 274,\n",
              "         2: 279,\n",
              "         16: 292,\n",
              "         19: 270,\n",
              "         46: 293,\n",
              "         7: 266,\n",
              "         13: 289,\n",
              "         22: 252,\n",
              "         40: 262,\n",
              "         3: 262,\n",
              "         20: 277,\n",
              "         21: 235,\n",
              "         38: 297,\n",
              "         56: 290,\n",
              "         17: 295,\n",
              "         53: 319,\n",
              "         8: 276,\n",
              "         54: 287,\n",
              "         55: 238,\n",
              "         60: 269,\n",
              "         18: 269,\n",
              "         25: 280,\n",
              "         57: 270,\n",
              "         15: 239,\n",
              "         58: 272,\n",
              "         32: 298,\n",
              "         50: 275,\n",
              "         23: 298,\n",
              "         12: 266,\n",
              "         35: 297,\n",
              "         51: 284,\n",
              "         34: 304,\n",
              "         24: 279,\n",
              "         28: 291,\n",
              "         31: 259,\n",
              "         14: 273,\n",
              "         44: 298,\n",
              "         45: 278,\n",
              "         48: 260,\n",
              "         26: 234})"
            ]
          },
          "metadata": {},
          "execution_count": 12
        }
      ]
    },
    {
      "cell_type": "code",
      "source": [
        "# create a tuple with number and value occurencies\n",
        "counter_items = [(value, key) for key, value in counter.items()]\n",
        "print(counter_items)"
      ],
      "metadata": {
        "id": "c4QRvCNQGQlj",
        "colab": {
          "base_uri": "https://localhost:8080/"
        },
        "outputId": "4aa7ba5c-0b1d-4cf6-a0b9-f8b2fe3a9ad6"
      },
      "execution_count": 13,
      "outputs": [
        {
          "output_type": "stream",
          "name": "stdout",
          "text": [
            "[(293, 4), (303, 5), (297, 30), (305, 33), (295, 41), (281, 52), (265, 9), (302, 37), (266, 39), (295, 43), (285, 49), (328, 10), (296, 11), (282, 29), (283, 36), (269, 47), (271, 1), (282, 6), (293, 27), (299, 42), (274, 59), (279, 2), (292, 16), (270, 19), (293, 46), (266, 7), (289, 13), (252, 22), (262, 40), (262, 3), (277, 20), (235, 21), (297, 38), (290, 56), (295, 17), (319, 53), (276, 8), (287, 54), (238, 55), (269, 60), (269, 18), (280, 25), (270, 57), (239, 15), (272, 58), (298, 32), (275, 50), (298, 23), (266, 12), (297, 35), (284, 51), (304, 34), (279, 24), (291, 28), (259, 31), (273, 14), (298, 44), (278, 45), (260, 48), (234, 26)]\n"
          ]
        }
      ]
    },
    {
      "cell_type": "code",
      "source": [
        "# get the 6 high numbers draw\n",
        "high_numbers = sorted(counter_items)[-6:]\n",
        "print(high_numbers)"
      ],
      "metadata": {
        "colab": {
          "base_uri": "https://localhost:8080/"
        },
        "id": "mkKRKi-XGyyu",
        "outputId": "1e6a81da-2271-461f-8908-1686fb24ed60"
      },
      "execution_count": 21,
      "outputs": [
        {
          "output_type": "stream",
          "name": "stdout",
          "text": [
            "[(302, 37), (303, 5), (304, 34), (305, 33), (319, 53), (328, 10)]\n"
          ]
        }
      ]
    },
    {
      "cell_type": "code",
      "source": [
        "# create a list with high numbers draw\n",
        "numbers_only = []\n",
        "for each in high_numbers:\n",
        "  numbers_only.append(each[1])"
      ],
      "metadata": {
        "id": "_EWtgQxjXIfC"
      },
      "execution_count": 15,
      "outputs": []
    },
    {
      "cell_type": "code",
      "source": [
        "# order the list by asc\n",
        "numbers_only = sorted(numbers_only)"
      ],
      "metadata": {
        "id": "ojDXdZCzX9-t"
      },
      "execution_count": 16,
      "outputs": []
    },
    {
      "cell_type": "code",
      "source": [
        "print(numbers_only)"
      ],
      "metadata": {
        "colab": {
          "base_uri": "https://localhost:8080/"
        },
        "id": "b_FIQ5jWY0mk",
        "outputId": "9393635d-c102-4248-97f1-074ed412160f"
      },
      "execution_count": 19,
      "outputs": [
        {
          "output_type": "stream",
          "name": "stdout",
          "text": [
            "[5, 10, 33, 34, 37, 53]\n"
          ]
        }
      ]
    },
    {
      "cell_type": "code",
      "source": [
        "# invocate the method\n",
        "verify_numbers(df, numbers_only)"
      ],
      "metadata": {
        "id": "bxrsIDTxYnOB"
      },
      "execution_count": 18,
      "outputs": []
    }
  ]
}